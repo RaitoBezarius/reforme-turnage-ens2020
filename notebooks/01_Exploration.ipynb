{
 "cells": [
  {
   "cell_type": "code",
   "execution_count": 137,
   "metadata": {},
   "outputs": [],
   "source": [
    "import numpy as np\n",
    "import pandas as pd\n",
    "import networkx as nx\n",
    "from pyvis.network import Network\n",
    "import glob\n",
    "from pathlib import Path\n",
    "import os\n",
    "from datetime import datetime\n",
    "\n",
    "DATA_DIR = Path(os.getcwd()).parents[1] / \"out\"\n",
    "\n",
    "%matplotlib inline"
   ]
  },
  {
   "cell_type": "code",
   "execution_count": 41,
   "metadata": {},
   "outputs": [],
   "source": [
    "def get_all_tp_files(working_dir=None):\n",
    "    if working_dir is None:\n",
    "        working_dir = DATA_DIR\n",
    "    \n",
    "    return Path(working_dir).glob(\"tp_*\")\n",
    "\n",
    "tp_files = get_all_tp_files()\n",
    "turnages_generaux = [pd.read_csv(DATA_DIR / f\"tg_{i}.csv\") for i in range(2010, 2020)]\n",
    "turnages_partiels = []\n",
    "for tp in tp_files:\n",
    "    try:\n",
    "        _, date = str(tp).split(\"_\")\n",
    "        date = date[:-len(\".csv\")]\n",
    "        dt = pd.to_datetime(date, format=\"%Y%m%d\")\n",
    "        \n",
    "        turnages_partiels.append((dt, pd.read_csv(DATA_DIR / tp)))\n",
    "    except Exception as e:\n",
    "        print(f'Error while reading {tp}: {e}')"
   ]
  },
  {
   "cell_type": "code",
   "execution_count": 49,
   "metadata": {},
   "outputs": [],
   "source": [
    "all_turnages_g = pd.concat(turnages_generaux, keys=range(2010, 2020), names=['Année', 'ID'])\n",
    "all_turnages_p = pd.concat([y for _, y in turnages_partiels], keys=[x for x, _ in turnages_partiels])"
   ]
  },
  {
   "cell_type": "code",
   "execution_count": 53,
   "metadata": {},
   "outputs": [
    {
     "data": {
      "text/html": [
       "<div>\n",
       "<style scoped>\n",
       "    .dataframe tbody tr th:only-of-type {\n",
       "        vertical-align: middle;\n",
       "    }\n",
       "\n",
       "    .dataframe tbody tr th {\n",
       "        vertical-align: top;\n",
       "    }\n",
       "\n",
       "    .dataframe thead th {\n",
       "        text-align: right;\n",
       "    }\n",
       "</style>\n",
       "<table border=\"1\" class=\"dataframe\">\n",
       "  <thead>\n",
       "    <tr style=\"text-align: right;\">\n",
       "      <th></th>\n",
       "      <th></th>\n",
       "      <th>Classement</th>\n",
       "      <th>Ancienne thurne</th>\n",
       "      <th>Nouvelle thurne</th>\n",
       "      <th>Catégorie</th>\n",
       "    </tr>\n",
       "    <tr>\n",
       "      <th>Année</th>\n",
       "      <th>ID</th>\n",
       "      <th></th>\n",
       "      <th></th>\n",
       "      <th></th>\n",
       "      <th></th>\n",
       "    </tr>\n",
       "  </thead>\n",
       "  <tbody>\n",
       "    <tr>\n",
       "      <th rowspan=\"5\" valign=\"top\">2010</th>\n",
       "      <th>0</th>\n",
       "      <td>1</td>\n",
       "      <td>NaN</td>\n",
       "      <td>UC286</td>\n",
       "      <td>A-4tJ</td>\n",
       "    </tr>\n",
       "    <tr>\n",
       "      <th>1</th>\n",
       "      <td>2</td>\n",
       "      <td>NaN</td>\n",
       "      <td>UC281</td>\n",
       "      <td>A-4tJ</td>\n",
       "    </tr>\n",
       "    <tr>\n",
       "      <th>2</th>\n",
       "      <td>3</td>\n",
       "      <td>NaN</td>\n",
       "      <td>UC222</td>\n",
       "      <td>A-4tJ</td>\n",
       "    </tr>\n",
       "    <tr>\n",
       "      <th>3</th>\n",
       "      <td>4</td>\n",
       "      <td>NaN</td>\n",
       "      <td>UC288</td>\n",
       "      <td>A-4tJ</td>\n",
       "    </tr>\n",
       "    <tr>\n",
       "      <th>4</th>\n",
       "      <td>5</td>\n",
       "      <td>NaN</td>\n",
       "      <td>UE220</td>\n",
       "      <td>A-4tJ</td>\n",
       "    </tr>\n",
       "    <tr>\n",
       "      <th>...</th>\n",
       "      <th>...</th>\n",
       "      <td>...</td>\n",
       "      <td>...</td>\n",
       "      <td>...</td>\n",
       "      <td>...</td>\n",
       "    </tr>\n",
       "    <tr>\n",
       "      <th rowspan=\"5\" valign=\"top\">2019</th>\n",
       "      <th>453</th>\n",
       "      <td>455</td>\n",
       "      <td>NaN</td>\n",
       "      <td>NaN</td>\n",
       "      <td>0J.2AL</td>\n",
       "    </tr>\n",
       "    <tr>\n",
       "      <th>454</th>\n",
       "      <td>456</td>\n",
       "      <td>NaN</td>\n",
       "      <td>NaN</td>\n",
       "      <td>0J.2AL</td>\n",
       "    </tr>\n",
       "    <tr>\n",
       "      <th>455</th>\n",
       "      <td>457</td>\n",
       "      <td>NaN</td>\n",
       "      <td>NaN</td>\n",
       "      <td>0J.2AL</td>\n",
       "    </tr>\n",
       "    <tr>\n",
       "      <th>456</th>\n",
       "      <td>458</td>\n",
       "      <td>NaN</td>\n",
       "      <td>NaN</td>\n",
       "      <td>0J.3AL</td>\n",
       "    </tr>\n",
       "    <tr>\n",
       "      <th>457</th>\n",
       "      <td>459</td>\n",
       "      <td>NaN</td>\n",
       "      <td>NaN</td>\n",
       "      <td>0J.3AL</td>\n",
       "    </tr>\n",
       "  </tbody>\n",
       "</table>\n",
       "<p>4022 rows × 4 columns</p>\n",
       "</div>"
      ],
      "text/plain": [
       "           Classement  Ancienne thurne Nouvelle thurne Catégorie\n",
       "Année ID                                                        \n",
       "2010  0             1              NaN           UC286     A-4tJ\n",
       "      1             2              NaN           UC281     A-4tJ\n",
       "      2             3              NaN           UC222     A-4tJ\n",
       "      3             4              NaN           UC288     A-4tJ\n",
       "      4             5              NaN           UE220     A-4tJ\n",
       "...               ...              ...             ...       ...\n",
       "2019  453         455              NaN             NaN    0J.2AL\n",
       "      454         456              NaN             NaN    0J.2AL\n",
       "      455         457              NaN             NaN    0J.2AL\n",
       "      456         458              NaN             NaN    0J.3AL\n",
       "      457         459              NaN             NaN    0J.3AL\n",
       "\n",
       "[4022 rows x 4 columns]"
      ]
     },
     "execution_count": 53,
     "metadata": {},
     "output_type": "execute_result"
    }
   ],
   "source": [
    "all_turnages_g[[\"Classement\", \"Ancienne thurne\", \"Nouvelle thurne\", \"Catégorie\"]]"
   ]
  },
  {
   "cell_type": "code",
   "execution_count": 55,
   "metadata": {},
   "outputs": [
    {
     "data": {
      "text/html": [
       "<div>\n",
       "<style scoped>\n",
       "    .dataframe tbody tr th:only-of-type {\n",
       "        vertical-align: middle;\n",
       "    }\n",
       "\n",
       "    .dataframe tbody tr th {\n",
       "        vertical-align: top;\n",
       "    }\n",
       "\n",
       "    .dataframe thead th {\n",
       "        text-align: right;\n",
       "    }\n",
       "</style>\n",
       "<table border=\"1\" class=\"dataframe\">\n",
       "  <thead>\n",
       "    <tr style=\"text-align: right;\">\n",
       "      <th></th>\n",
       "      <th></th>\n",
       "      <th>Classement</th>\n",
       "      <th>Ancienne thurne</th>\n",
       "      <th>Nouvelle thurne</th>\n",
       "    </tr>\n",
       "  </thead>\n",
       "  <tbody>\n",
       "    <tr>\n",
       "      <th rowspan=\"2\" valign=\"top\">2006-08-17</th>\n",
       "      <th>0</th>\n",
       "      <td>0</td>\n",
       "      <td>MC514</td>\n",
       "      <td>ext</td>\n",
       "    </tr>\n",
       "    <tr>\n",
       "      <th>1</th>\n",
       "      <td>1</td>\n",
       "      <td>MC603</td>\n",
       "      <td>ext</td>\n",
       "    </tr>\n",
       "    <tr>\n",
       "      <th rowspan=\"3\" valign=\"top\">2007-09-17</th>\n",
       "      <th>0</th>\n",
       "      <td>0</td>\n",
       "      <td>NaN</td>\n",
       "      <td>UC273</td>\n",
       "    </tr>\n",
       "    <tr>\n",
       "      <th>1</th>\n",
       "      <td>1</td>\n",
       "      <td>NaN</td>\n",
       "      <td>UR236</td>\n",
       "    </tr>\n",
       "    <tr>\n",
       "      <th>2</th>\n",
       "      <td>2</td>\n",
       "      <td>NaN</td>\n",
       "      <td>UR305</td>\n",
       "    </tr>\n",
       "    <tr>\n",
       "      <th>...</th>\n",
       "      <th>...</th>\n",
       "      <td>...</td>\n",
       "      <td>...</td>\n",
       "      <td>...</td>\n",
       "    </tr>\n",
       "    <tr>\n",
       "      <th>2006-05-04</th>\n",
       "      <th>12</th>\n",
       "      <td>12</td>\n",
       "      <td>NaN</td>\n",
       "      <td>MB208</td>\n",
       "    </tr>\n",
       "    <tr>\n",
       "      <th rowspan=\"4\" valign=\"top\">2007-11-22</th>\n",
       "      <th>0</th>\n",
       "      <td>0</td>\n",
       "      <td>MB607</td>\n",
       "      <td>UA426</td>\n",
       "    </tr>\n",
       "    <tr>\n",
       "      <th>1</th>\n",
       "      <td>1</td>\n",
       "      <td>NaN</td>\n",
       "      <td>UE212</td>\n",
       "    </tr>\n",
       "    <tr>\n",
       "      <th>2</th>\n",
       "      <td>2</td>\n",
       "      <td>MB512</td>\n",
       "      <td>UR220</td>\n",
       "    </tr>\n",
       "    <tr>\n",
       "      <th>3</th>\n",
       "      <td>3</td>\n",
       "      <td>MB506</td>\n",
       "      <td>UR209</td>\n",
       "    </tr>\n",
       "  </tbody>\n",
       "</table>\n",
       "<p>3149 rows × 3 columns</p>\n",
       "</div>"
      ],
      "text/plain": [
       "               Classement Ancienne thurne Nouvelle thurne\n",
       "2006-08-17 0            0           MC514             ext\n",
       "           1            1           MC603             ext\n",
       "2007-09-17 0            0             NaN           UC273\n",
       "           1            1             NaN           UR236\n",
       "           2            2             NaN           UR305\n",
       "...                   ...             ...             ...\n",
       "2006-05-04 12          12             NaN           MB208\n",
       "2007-11-22 0            0           MB607           UA426\n",
       "           1            1             NaN           UE212\n",
       "           2            2           MB512           UR220\n",
       "           3            3           MB506           UR209\n",
       "\n",
       "[3149 rows x 3 columns]"
      ]
     },
     "execution_count": 55,
     "metadata": {},
     "output_type": "execute_result"
    }
   ],
   "source": [
    "all_turnages_p[[\"Classement\", \"Ancienne thurne\", \"Nouvelle thurne\"]]"
   ]
  },
  {
   "cell_type": "markdown",
   "metadata": {},
   "source": [
    "## On peut poser la question suivante, sur l'ensemble des turnages généraux, quelles étaient les thurnes les plus populaires ?"
   ]
  },
  {
   "cell_type": "code",
   "execution_count": 60,
   "metadata": {},
   "outputs": [
    {
     "data": {
      "text/plain": [
       "MB107    10\n",
       "MC704    10\n",
       "MB306    10\n",
       "MC615    10\n",
       "MB409    10\n",
       "MC407    10\n",
       "MB704    10\n",
       "MC414    10\n",
       "MB208    10\n",
       "MB114    10\n",
       "MC614    10\n",
       "MB615    10\n",
       "MB607    10\n",
       "MB608    10\n",
       "MC608    10\n",
       "MB705    10\n",
       "MB413    10\n",
       "MB408    10\n",
       "MC413    10\n",
       "MB411    10\n",
       "MC412    10\n",
       "MB612    10\n",
       "MB108    10\n",
       "MB414    10\n",
       "MB706    10\n",
       "MC507    10\n",
       "UC360     9\n",
       "UC215     9\n",
       "UC298     9\n",
       "UC271     9\n",
       "Name: Nouvelle thurne, dtype: int64"
      ]
     },
     "execution_count": 60,
     "metadata": {},
     "output_type": "execute_result"
    }
   ],
   "source": [
    "all_turnages_g[\"Nouvelle thurne\"].value_counts()[:30]"
   ]
  },
  {
   "cell_type": "markdown",
   "metadata": {},
   "source": [
    "## Puis, quels sont les personnes qui ont été le plus turnés généralement puis partiellement ?"
   ]
  },
  {
   "cell_type": "code",
   "execution_count": 92,
   "metadata": {},
   "outputs": [
    {
     "name": "stdout",
     "output_type": "stream",
     "text": [
      "Il existe une personne qui a été turné 4 fois\n",
      "Il y a eu 2 personnes qui ont été turné 4 fois sur les 20 dernières années\n",
      "Il existe une personne qui a été turné 8 fois\n",
      "Il y a eu 2 personnes qui ont été turné 8 fois sur les 20 dernières années\n"
     ]
    }
   ],
   "source": [
    "for target in (all_turnages_g, all_turnages_p):\n",
    "    M = max(target[~pd.isna(target[\"Nouvelle thurne\"])][\"Identifiant\"].value_counts())\n",
    "    print(f'Il existe une personne qui a été turné {M} fois')\n",
    "    # En particulier?\n",
    "    K = ((target[~pd.isna(target[\"Nouvelle thurne\"])][\"Identifiant\"].value_counts()) == M).value_counts()[True] # Il y a sûrement plus propre.\n",
    "    print(f'Il y a eu {K} personnes qui ont été turné {M} fois sur les 20 dernières années')"
   ]
  },
  {
   "cell_type": "markdown",
   "metadata": {},
   "source": [
    "## En moyenne, combien de temps est logé un normalien ?"
   ]
  },
  {
   "cell_type": "code",
   "execution_count": 114,
   "metadata": {},
   "outputs": [
    {
     "name": "stdout",
     "output_type": "stream",
     "text": [
      "50 % des normaliens sont logés au moins 1.0 ans, hors conscritude.\n",
      "En moyenne: 1.592388 ans.\n"
     ]
    }
   ],
   "source": [
    "all_turnages = pd.concat([all_turnages_g, all_turnages_p]) # Fusion ultime.\n",
    "\n",
    "# Personnes qui viennent d'acquérir une thurne, soit au TP ou au TG.\n",
    "acquisitions = all_turnages[~pd.isna(all_turnages[\"Nouvelle thurne\"]) & pd.isna(all_turnages[\"Ancienne thurne\"])] \n",
    "\n",
    "anneesParPersonne = acquisitions[\"Identifiant\"].value_counts()\n",
    "\n",
    "print(f'50 % des normaliens sont logés au moins {anneesParPersonne.median()} ans, hors conscritude.')\n",
    "print(f'En moyenne: {anneesParPersonne.mean():f} ans.')"
   ]
  },
  {
   "cell_type": "markdown",
   "metadata": {},
   "source": [
    "## Si on prend une session de turnage, regardons le flux des migrations."
   ]
  },
  {
   "cell_type": "code",
   "execution_count": 154,
   "metadata": {},
   "outputs": [
    {
     "data": {
      "text/html": [
       "\n",
       "        <iframe\n",
       "            width=\"920\"\n",
       "            height=\"800\"\n",
       "            src=\"ex.html\"\n",
       "            frameborder=\"0\"\n",
       "            allowfullscreen\n",
       "        ></iframe>\n",
       "        "
      ],
      "text/plain": [
       "<IPython.lib.display.IFrame at 0x7f61ad9e9040>"
      ]
     },
     "execution_count": 154,
     "metadata": {},
     "output_type": "execute_result"
    }
   ],
   "source": [
    "def create_flow_graph(turnage_df):\n",
    "    dg = nx.DiGraph()\n",
    "    dg.add_nodes_from(turnage_df[\"Nouvelle thurne\"].dropna())\n",
    "    dg.add_node(\"Le néant\")\n",
    "    \n",
    "    tmp_df = turnage_df[[\"Identifiant\", \"Ancienne thurne\", \"Nouvelle thurne\"]].fillna(\"Le néant\")\n",
    "    \n",
    "    for _, person in tmp_df.iterrows():\n",
    "        anc_thurne = person[\"Ancienne thurne\"]\n",
    "        nouv_thurne = person[\"Nouvelle thurne\"]\n",
    "        \n",
    "        dg.add_edge(anc_thurne, nouv_thurne, label=person[\"Identifiant\"])\n",
    "        \n",
    "    return dg\n",
    "\n",
    "dg = create_flow_graph(turnages_generaux[-1])\n",
    "g = Network(height=800, width=920, notebook=True, heading=\"Flux migratoires au sein d'un turnage\")\n",
    "g.toggle_hide_edges_on_drag(True)\n",
    "g.barnes_hut()\n",
    "g.from_nx(dg)\n",
    "g.show(\"ex.html\")"
   ]
  }
 ],
 "metadata": {
  "kernelspec": {
   "display_name": "Python 3",
   "language": "python",
   "name": "python3"
  },
  "language_info": {
   "codemirror_mode": {
    "name": "ipython",
    "version": 3
   },
   "file_extension": ".py",
   "mimetype": "text/x-python",
   "name": "python",
   "nbconvert_exporter": "python",
   "pygments_lexer": "ipython3",
   "version": "3.8.6"
  }
 },
 "nbformat": 4,
 "nbformat_minor": 4
}
